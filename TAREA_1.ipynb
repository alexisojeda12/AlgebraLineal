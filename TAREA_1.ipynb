{
  "nbformat": 4,
  "nbformat_minor": 0,
  "metadata": {
    "colab": {
      "provenance": []
    },
    "kernelspec": {
      "name": "python3",
      "display_name": "Python 3"
    },
    "language_info": {
      "name": "python"
    }
  },
  "cells": [
    {
      "cell_type": "code",
      "source": [
        "!pip install --target=$nb_path nacal"
      ],
      "metadata": {
        "id": "nTZOCTa7OM84",
        "colab": {
          "base_uri": "https://localhost:8080/"
        },
        "outputId": "14d8ace6-7b37-49df-f5a8-968752939eb6"
      },
      "execution_count": 1,
      "outputs": [
        {
          "output_type": "stream",
          "name": "stdout",
          "text": [
            "Collecting nacal\n",
            "  Downloading nacal-0.1.30-py3-none-any.whl (33 kB)\n",
            "Requirement already satisfied: sympy>=1.1.0 in /usr/local/lib/python3.10/dist-packages (from nacal) (1.12)\n",
            "Requirement already satisfied: mpmath>=0.19 in /usr/local/lib/python3.10/dist-packages (from sympy>=1.1.0->nacal) (1.3.0)\n",
            "Installing collected packages: nacal\n",
            "Successfully installed nacal-0.1.30\n"
          ]
        }
      ]
    },
    {
      "cell_type": "code",
      "source": [
        "from nacal import *"
      ],
      "metadata": {
        "id": "u_1_EM1lPt2F"
      },
      "execution_count": 2,
      "outputs": []
    },
    {
      "cell_type": "code",
      "execution_count": null,
      "metadata": {
        "colab": {
          "base_uri": "https://localhost:8080/",
          "height": 46
        },
        "id": "x5pmlJEwNo3E",
        "outputId": "33670fcb-949c-492f-f948-1748bd89e95c"
      },
      "outputs": [
        {
          "output_type": "execute_result",
          "data": {
            "text/plain": [
              "Vector([5, 7, 9])"
            ],
            "text/html": [
              "<p style=\"text-align:center;\">$\\begin{pmatrix}5\\\\ 7\\\\ 9\\end{pmatrix}$</p>"
            ],
            "image/png": "$\\begin{pmatrix}5\\\\ 7\\\\ 9\\end{pmatrix}$",
            "text/latex": "$\\begin{pmatrix}5\\\\ 7\\\\ 9\\end{pmatrix}$"
          },
          "metadata": {},
          "execution_count": 4
        }
      ],
      "source": [
        "a=Vector ([1,2,3])\n",
        "b=Vector ([4,5,6])\n",
        "a\n",
        "b\n",
        "a+b\n",
        "b+a"
      ]
    },
    {
      "cell_type": "markdown",
      "source": [
        "$\\begin{pmatrix}1\\\\ 2\\\\ 3\\end{pmatrix}$\n",
        "$\\begin{pmatrix}4\\\\ 5\\\\ 6\\end{pmatrix}$\n",
        "=\n",
        "$\\begin{pmatrix}5\\\\ 7\\\\ 9\\end{pmatrix}$\n",
        "\n",
        "$\\begin{pmatrix}4\\\\ 5\\\\ 6\\end{pmatrix}$\n",
        "$\\begin{pmatrix}1\\\\ 2\\\\ 3\\end{pmatrix}$\n",
        "=\n",
        "$\\begin{pmatrix}5\\\\ 7\\\\ 9\\end{pmatrix}$"
      ],
      "metadata": {
        "id": "CsAXuMYKP8Nk"
      }
    },
    {
      "cell_type": "markdown",
      "source": [
        "SI SE CUMPLE LA CONMUTATIVA"
      ],
      "metadata": {
        "id": "8tPu-56o-4JP"
      }
    },
    {
      "cell_type": "code",
      "source": [
        "a=Vector ([1,2])\n",
        "b=Vector ([4,5])\n",
        "c=Vector ([1,0])\n",
        "a\n",
        "b\n",
        "c\n",
        "a+(b+c)\n",
        "(a+b)+c"
      ],
      "metadata": {
        "colab": {
          "base_uri": "https://localhost:8080/",
          "height": 46
        },
        "id": "3WbKku8T_Ay9",
        "outputId": "1cd69c80-3ff8-4bee-be08-8d8306077ae6"
      },
      "execution_count": null,
      "outputs": [
        {
          "output_type": "execute_result",
          "data": {
            "text/plain": [
              "Vector([6, 7])"
            ],
            "text/html": [
              "<p style=\"text-align:center;\">$\\begin{pmatrix}6\\\\ 7\\end{pmatrix}$</p>"
            ],
            "image/png": "$\\begin{pmatrix}6\\\\ 7\\end{pmatrix}$",
            "text/latex": "$\\begin{pmatrix}6\\\\ 7\\end{pmatrix}$"
          },
          "metadata": {},
          "execution_count": 16
        }
      ]
    },
    {
      "cell_type": "markdown",
      "source": [
        "$\\begin{pmatrix}1\\\\ 2\\end{pmatrix}$\n",
        "+\n",
        "(\n",
        "$\\begin{pmatrix}4\\\\ 5\\end{pmatrix}$\n",
        "+\n",
        "$\\begin{pmatrix}1\\\\ 0\\end{pmatrix}$\n",
        ")\n",
        "=\n",
        "$\\begin{pmatrix}6\\\\ 7\\end{pmatrix}$\n",
        "\n",
        "(\n",
        "$\\begin{pmatrix}1\\\\ 2\\end{pmatrix}$\n",
        "+\n",
        "$\\begin{pmatrix}4\\\\ 5\\end{pmatrix}$\n",
        ")\n",
        "+\n",
        "$\\begin{pmatrix}1\\\\ 0\\end{pmatrix}$\n",
        "=\n",
        "$\\begin{pmatrix}6\\\\ 7\\end{pmatrix}$"
      ],
      "metadata": {
        "id": "KoFAj8YLAE_o"
      }
    },
    {
      "cell_type": "markdown",
      "source": [
        "SI SE CUMPLE LA ASOCIATIVA"
      ],
      "metadata": {
        "id": "LfFEl_wkBvRS"
      }
    },
    {
      "cell_type": "code",
      "source": [
        "a=Vector ([4,5,6])\n",
        "b=Vector ([0,0,0])\n",
        "a\n",
        "b\n",
        "a+b"
      ],
      "metadata": {
        "colab": {
          "base_uri": "https://localhost:8080/",
          "height": 46
        },
        "id": "gzc_GQr4AwJC",
        "outputId": "cbcaa630-b96f-4603-f35c-352933543627"
      },
      "execution_count": null,
      "outputs": [
        {
          "output_type": "execute_result",
          "data": {
            "text/plain": [
              "Vector([4, 5, 6])"
            ],
            "text/html": [
              "<p style=\"text-align:center;\">$\\begin{pmatrix}4\\\\ 5\\\\ 6\\end{pmatrix}$</p>"
            ],
            "image/png": "$\\begin{pmatrix}4\\\\ 5\\\\ 6\\end{pmatrix}$",
            "text/latex": "$\\begin{pmatrix}4\\\\ 5\\\\ 6\\end{pmatrix}$"
          },
          "metadata": {},
          "execution_count": 19
        }
      ]
    },
    {
      "cell_type": "markdown",
      "source": [
        "$\\begin{pmatrix}4\\\\ 5\\\\ 6\\end{pmatrix}$\n",
        "+\n",
        "$\\begin{pmatrix}0\\\\ 0\\\\ 0\\end{pmatrix}$\n",
        "=\n",
        "$\\begin{pmatrix}4\\\\ 5\\\\ 6\\end{pmatrix}$"
      ],
      "metadata": {
        "id": "tRfGPY22CPHj"
      }
    },
    {
      "cell_type": "markdown",
      "source": [
        "SI SE CUMPLE EL ELEMENTO IDENTIDAD"
      ],
      "metadata": {
        "id": "RGbgs75MCWxp"
      }
    },
    {
      "cell_type": "code",
      "source": [
        "a=Vector ([4,5,6])\n",
        "b=Vector ([-4,-5,-6])\n",
        "a\n",
        "b\n",
        "a+b"
      ],
      "metadata": {
        "colab": {
          "base_uri": "https://localhost:8080/",
          "height": 46
        },
        "id": "SatoB9XdCbF7",
        "outputId": "3752b5c4-cc3a-49d9-d972-9ed8e104000d"
      },
      "execution_count": null,
      "outputs": [
        {
          "output_type": "execute_result",
          "data": {
            "text/plain": [
              "Vector([0, 0, 0])"
            ],
            "text/html": [
              "<p style=\"text-align:center;\">$\\begin{pmatrix}0\\\\ 0\\\\ 0\\end{pmatrix}$</p>"
            ],
            "image/png": "$\\begin{pmatrix}0\\\\ 0\\\\ 0\\end{pmatrix}$",
            "text/latex": "$\\begin{pmatrix}0\\\\ 0\\\\ 0\\end{pmatrix}$"
          },
          "metadata": {},
          "execution_count": 22
        }
      ]
    },
    {
      "cell_type": "markdown",
      "source": [
        "$\\begin{pmatrix}4\\\\ 5\\\\ 6\\end{pmatrix}$\n",
        "+\n",
        "$\\begin{pmatrix}-4\\\\ -5\\\\ -6\\end{pmatrix}$\n",
        "=\n",
        "$\\begin{pmatrix}0\\\\ 0\\\\ 0\\end{pmatrix}$"
      ],
      "metadata": {
        "id": "epGbz90YCoTl"
      }
    },
    {
      "cell_type": "markdown",
      "source": [
        "SI SE CUMPLE EL ELEMENTO INVERSO"
      ],
      "metadata": {
        "id": "6vBa4zvsCzVd"
      }
    },
    {
      "cell_type": "code",
      "source": [
        "a=Vector([1,-1])\n",
        "b=Vector([4,-5])\n",
        "c=2\n",
        "c*(a+b)\n",
        "(c*a)+(c*b)\n"
      ],
      "metadata": {
        "colab": {
          "base_uri": "https://localhost:8080/",
          "height": 46
        },
        "id": "F-kMSXvGC3E6",
        "outputId": "2743a66c-cf4a-405b-e194-0d4eb79cc49f"
      },
      "execution_count": null,
      "outputs": [
        {
          "output_type": "execute_result",
          "data": {
            "text/plain": [
              "Vector([10, -12])"
            ],
            "text/html": [
              "<p style=\"text-align:center;\">$\\begin{pmatrix}10\\\\ -12\\end{pmatrix}$</p>"
            ],
            "image/png": "$\\begin{pmatrix}10\\\\ -12\\end{pmatrix}$",
            "text/latex": "$\\begin{pmatrix}10\\\\ -12\\end{pmatrix}$"
          },
          "metadata": {},
          "execution_count": 26
        }
      ]
    },
    {
      "cell_type": "markdown",
      "source": [
        "2\n",
        "(\n",
        "$\\begin{pmatrix}1\\\\ -1\\end{pmatrix}$\n",
        "+\n",
        "$\\begin{pmatrix}4\\\\ 5\\end{pmatrix}$\n",
        ")\n",
        "=\n",
        "$\\begin{pmatrix}10\\\\ -12\\end{pmatrix}$\n",
        "\n",
        "2\n",
        "$\\begin{pmatrix}1\\\\ -1\\end{pmatrix}$\n",
        "+\n",
        "2\n",
        "$\\begin{pmatrix}4\\\\ 5\\end{pmatrix}$\n",
        "=\n",
        "$\\begin{pmatrix}10\\\\ -12\\end{pmatrix}$"
      ],
      "metadata": {
        "id": "K50yHOn7Dd4V"
      }
    },
    {
      "cell_type": "markdown",
      "source": [
        "SI SE CUMPLE LA DISTRIBUTIVA POR LA IZQUIERDA"
      ],
      "metadata": {
        "id": "GjzZLfMoEMFR"
      }
    },
    {
      "cell_type": "code",
      "source": [
        "c=Vector ([1,2,3])\n",
        "a=2\n",
        "b=3\n",
        "c\n",
        "(a+b)*c\n",
        "(a*c)+(b*c)"
      ],
      "metadata": {
        "colab": {
          "base_uri": "https://localhost:8080/",
          "height": 46
        },
        "id": "-NJl-WyWFNST",
        "outputId": "9cecc3a9-e66d-488d-f883-5f7027660575"
      },
      "execution_count": null,
      "outputs": [
        {
          "output_type": "execute_result",
          "data": {
            "text/plain": [
              "Vector([5, 10, 15])"
            ],
            "text/html": [
              "<p style=\"text-align:center;\">$\\begin{pmatrix}5\\\\ 10\\\\ 15\\end{pmatrix}$</p>"
            ],
            "image/png": "$\\begin{pmatrix}5\\\\ 10\\\\ 15\\end{pmatrix}$",
            "text/latex": "$\\begin{pmatrix}5\\\\ 10\\\\ 15\\end{pmatrix}$"
          },
          "metadata": {},
          "execution_count": 30
        }
      ]
    },
    {
      "cell_type": "markdown",
      "source": [
        "(2+3)\n",
        "$\\begin{pmatrix}1\\\\ 2\\\\ 3\\end{pmatrix}$\n",
        "=\n",
        "$\\begin{pmatrix}5\\\\ 10\\\\ 15\\end{pmatrix}$\n",
        "\n",
        "2\n",
        "$\\begin{pmatrix}1\\\\ 2\\\\ 3\\end{pmatrix}$\n",
        "+\n",
        "3\n",
        "$\\begin{pmatrix}1\\\\ 2\\\\ 3\\end{pmatrix}$\n",
        "=\n",
        "$\\begin{pmatrix}5\\\\ 10\\\\ 15\\end{pmatrix}$"
      ],
      "metadata": {
        "id": "jTv67HO0FnNq"
      }
    },
    {
      "cell_type": "markdown",
      "source": [
        "SI SE CUMPLE DISTRIBUTIVA POR DERECHA"
      ],
      "metadata": {
        "id": "JiVwMvazGBjF"
      }
    },
    {
      "cell_type": "code",
      "source": [
        "a=Vector([1,2])\n",
        "b=2\n",
        "c=3\n",
        "a\n",
        "b*(c*a)\n",
        "(a*b)*c"
      ],
      "metadata": {
        "colab": {
          "base_uri": "https://localhost:8080/",
          "height": 46
        },
        "id": "cq-mqwmeGEG6",
        "outputId": "9a05994d-acbd-4f9d-f719-2ffe967060da"
      },
      "execution_count": null,
      "outputs": [
        {
          "output_type": "execute_result",
          "data": {
            "text/plain": [
              "Vector([6, 12])"
            ],
            "text/html": [
              "<p style=\"text-align:center;\">$\\begin{pmatrix}6\\\\ 12\\end{pmatrix}$</p>"
            ],
            "image/png": "$\\begin{pmatrix}6\\\\ 12\\end{pmatrix}$",
            "text/latex": "$\\begin{pmatrix}6\\\\ 12\\end{pmatrix}$"
          },
          "metadata": {},
          "execution_count": 33
        }
      ]
    },
    {
      "cell_type": "markdown",
      "source": [
        "2\n",
        "(\n",
        "3\n",
        "$\\begin{pmatrix}1\\\\ 2\\end{pmatrix}$\n",
        ")\n",
        "=\n",
        "$\\begin{pmatrix}6\\\\ 12\\end{pmatrix}$\n",
        "\n",
        "(2*3)\n",
        "$\\begin{pmatrix}1\\\\ 2\\end{pmatrix}$\n",
        "=\n",
        "$\\begin{pmatrix}6\\\\ 12\\end{pmatrix}$"
      ],
      "metadata": {
        "id": "QydWkoirGjL1"
      }
    },
    {
      "cell_type": "markdown",
      "source": [
        "SI SE CUMPLE"
      ],
      "metadata": {
        "id": "M1TlgGyNHGM1"
      }
    },
    {
      "cell_type": "code",
      "source": [
        "a=1\n",
        "b=Vector([1,2,3])\n",
        "b\n",
        "a*b"
      ],
      "metadata": {
        "colab": {
          "base_uri": "https://localhost:8080/",
          "height": 46
        },
        "id": "8Z0xSO7VHHzA",
        "outputId": "65ce63c8-2cac-4e75-8a53-3c3c40b4c50a"
      },
      "execution_count": null,
      "outputs": [
        {
          "output_type": "execute_result",
          "data": {
            "text/plain": [
              "Vector([1, 2, 3])"
            ],
            "text/html": [
              "<p style=\"text-align:center;\">$\\begin{pmatrix}1\\\\ 2\\\\ 3\\end{pmatrix}$</p>"
            ],
            "image/png": "$\\begin{pmatrix}1\\\\ 2\\\\ 3\\end{pmatrix}$",
            "text/latex": "$\\begin{pmatrix}1\\\\ 2\\\\ 3\\end{pmatrix}$"
          },
          "metadata": {},
          "execution_count": 36
        }
      ]
    },
    {
      "cell_type": "markdown",
      "source": [
        "a\n",
        "$\\begin{pmatrix}1\\\\ 2\\\\ 3\\end{pmatrix}$\n",
        "=\n",
        "$\\begin{pmatrix}1\\\\ 2\\\\ 3\\end{pmatrix}$"
      ],
      "metadata": {
        "id": "BKV07ypoHQus"
      }
    },
    {
      "cell_type": "markdown",
      "source": [
        "SI SE CUMPLE"
      ],
      "metadata": {
        "id": "EDazlCuhHZpf"
      }
    }
  ]
}