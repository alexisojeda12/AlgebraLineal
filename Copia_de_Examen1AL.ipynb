{
  "nbformat": 4,
  "nbformat_minor": 0,
  "metadata": {
    "colab": {
      "provenance": []
    },
    "kernelspec": {
      "name": "python3",
      "display_name": "Python 3"
    },
    "language_info": {
      "name": "python"
    }
  },
  "cells": [
    {
      "cell_type": "markdown",
      "source": [
        "## Algebra Lineal\n",
        "\n",
        "### 1er examen parcial"
      ],
      "metadata": {
        "id": "m93nhBA98vRW"
      }
    },
    {
      "cell_type": "code",
      "source": [
        "!pip install --target=$nb_path nacal\n",
        "from nacal import *\n"
      ],
      "metadata": {
        "colab": {
          "base_uri": "https://localhost:8080/"
        },
        "id": "K6W1qKelC1DL",
        "outputId": "339c13cf-f107-4fdf-8a74-841ed5ce3612"
      },
      "execution_count": null,
      "outputs": [
        {
          "output_type": "stream",
          "name": "stdout",
          "text": [
            "Collecting nacal\n",
            "  Downloading nacal-0.1.30-py3-none-any.whl (33 kB)\n",
            "Requirement already satisfied: sympy>=1.1.0 in /usr/local/lib/python3.10/dist-packages (from nacal) (1.12)\n",
            "Requirement already satisfied: mpmath>=0.19 in /usr/local/lib/python3.10/dist-packages (from sympy>=1.1.0->nacal) (1.3.0)\n",
            "Installing collected packages: nacal\n",
            "Successfully installed nacal-0.1.30\n"
          ]
        }
      ]
    },
    {
      "cell_type": "markdown",
      "source": [
        "EN este notebook deberás realizar cada uno de los ejercicios utilizando Python dentro de los bloques de código, si alguna salida requiere la visualización mediante Latex escribe el bloque correspondiente."
      ],
      "metadata": {
        "id": "OWBcJp7z9U8G"
      }
    },
    {
      "cell_type": "markdown",
      "metadata": {
        "id": "kXLRi02u_bK6"
      },
      "source": [
        "1. Genere los vectores $a$ y $ {b}$:\n",
        "\n",
        "-   el vector ${a}$ está formado por la lista de números: 1, 4, 9, 2, -5, π\n",
        "-   el vector ${b}$ está formado por la lista de números: 1, 2, 1, 0, 0.01,  $\\sqrt 2$\n",
        "-   súmelos"
      ]
    },
    {
      "cell_type": "code",
      "execution_count": null,
      "metadata": {
        "id": "7GzeUtyj8qwb",
        "colab": {
          "base_uri": "https://localhost:8080/",
          "height": 46
        },
        "outputId": "c86a138c-6d6a-4e9a-db83-51cdea0e8c2e"
      },
      "outputs": [
        {
          "output_type": "execute_result",
          "data": {
            "text/plain": [
              "Vector([2, 6, 10, 2, -4.99, 4.5516])"
            ],
            "text/html": [
              "<p style=\"text-align:center;\">$\\begin{pmatrix}2\\\\ 6\\\\ 10\\\\ 2\\\\ -4.99\\\\ 4.5516\\end{pmatrix}$</p>"
            ],
            "image/png": "$\\begin{pmatrix}2\\\\ 6\\\\ 10\\\\ 2\\\\ -4.99\\\\ 4.5516\\end{pmatrix}$",
            "text/latex": "$\\begin{pmatrix}2\\\\ 6\\\\ 10\\\\ 2\\\\ -4.99\\\\ 4.5516\\end{pmatrix}$"
          },
          "metadata": {},
          "execution_count": 8
        }
      ],
      "source": [
        "a=Vector( [1,4,9,2,-5,3.1416])\n",
        "b=Vector( [1,2,1,0,0.01,1.41])\n",
        "a+b\n"
      ]
    },
    {
      "cell_type": "markdown",
      "source": [
        "$\\begin{pmatrix}2\\\\ 6\\\\ 10\\\\ 2\\\\ -4.99\\\\ 4.5516\\end{pmatrix}$"
      ],
      "metadata": {
        "id": "YZB_mUiQFofD"
      }
    },
    {
      "cell_type": "markdown",
      "metadata": {
        "id": "6FIT3apxOYdq"
      },
      "source": [
        "2. Proporcione ejemplos de matrices 3 por 3 no nulas de los siguientes\n",
        "tipos de matrices:\n",
        "\n",
        "-   Una matriz diagonal\n",
        "\n"
      ]
    },
    {
      "cell_type": "code",
      "source": [
        "a=Vector([3,0,0])\n",
        "b=Vector([0,2,0])\n",
        "c=Vector([0,0,1])\n",
        "A=Matrix([a,b,c])\n",
        "A"
      ],
      "metadata": {
        "colab": {
          "base_uri": "https://localhost:8080/",
          "height": 46
        },
        "id": "J7mND34xFzs5",
        "outputId": "da0481c8-6be3-4c3b-e8ae-8156d701f357"
      },
      "execution_count": null,
      "outputs": [
        {
          "output_type": "execute_result",
          "data": {
            "text/plain": [
              "Matrix([Vector([3, 0, 0]), Vector([0, 2, 0]), Vector([0, 0, 1])])"
            ],
            "text/html": [
              "<p style=\"text-align:center;\">$\\left[ \\begin{array}{ccc}3&0&0\\\\0&2&0\\\\0&0&1\\\\ \\end{array} \\right]$</p>"
            ],
            "image/png": "$\\left[ \\begin{array}{ccc}3&0&0\\\\0&2&0\\\\0&0&1\\\\ \\end{array} \\right]$",
            "text/latex": "$\\left[ \\begin{array}{ccc}3&0&0\\\\0&2&0\\\\0&0&1\\\\ \\end{array} \\right]$"
          },
          "metadata": {},
          "execution_count": 12
        }
      ]
    },
    {
      "cell_type": "markdown",
      "source": [
        "$\\left[ \\begin{array}{ccc}3&0&0\\\\0&2&0\\\\0&0&1\\\\ \\end{array} \\right]$"
      ],
      "metadata": {
        "id": "W962eHSXGaVx"
      }
    },
    {
      "cell_type": "markdown",
      "metadata": {
        "id": "WMMsUBTtOYdq"
      },
      "source": [
        "-   Una matriz simétrica\n",
        "\n"
      ]
    },
    {
      "cell_type": "code",
      "execution_count": null,
      "metadata": {
        "id": "a7YW_5VFOYdq",
        "colab": {
          "base_uri": "https://localhost:8080/",
          "height": 46
        },
        "outputId": "63b083cb-f661-4297-f0fd-0c4eae07ae79"
      },
      "outputs": [
        {
          "output_type": "execute_result",
          "data": {
            "text/plain": [
              "Matrix([Vector([1, 1, 2]), Vector([1, 1, 3]), Vector([2, 3, 1])])"
            ],
            "text/html": [
              "<p style=\"text-align:center;\">$\\left[ \\begin{array}{ccc}1&1&2\\\\1&1&3\\\\2&3&1\\\\ \\end{array} \\right]$</p>"
            ],
            "image/png": "$\\left[ \\begin{array}{ccc}1&1&2\\\\1&1&3\\\\2&3&1\\\\ \\end{array} \\right]$",
            "text/latex": "$\\left[ \\begin{array}{ccc}1&1&2\\\\1&1&3\\\\2&3&1\\\\ \\end{array} \\right]$"
          },
          "metadata": {},
          "execution_count": 13
        }
      ],
      "source": [
        "a=Vector([1,1,2])\n",
        "b=Vector([1,1,3])\n",
        "c=Vector([2,3,1])\n",
        "A=Matrix([a,b,c])\n",
        "A"
      ]
    },
    {
      "cell_type": "markdown",
      "source": [
        "$\\left[ \\begin{array}{ccc}1&1&2\\\\1&1&3\\\\2&3&1\\\\ \\end{array} \\right]$"
      ],
      "metadata": {
        "id": "zU1vAxRQHeoO"
      }
    },
    {
      "cell_type": "markdown",
      "metadata": {
        "id": "roLWrzwXj1X6"
      },
      "source": [
        "3. Cree la matriz\n",
        "$${A}=\\begin{bmatrix}1&0&0&-1\\\\2&0&7&0\\\\-4&3&3&0\\\\0&3&4&1\\\\7&1&2&1\\end{bmatrix}$$\n",
        "\n"
      ]
    },
    {
      "cell_type": "markdown",
      "metadata": {
        "id": "96CPH5a_j1X9"
      },
      "source": [
        "Calcule el siguiente vector: 3 veces la primera columna de $A$\n",
        "mas la segunda columna de $A$ menos 2 veces la tercera columna\n",
        "menos 3 veces la última columna de $A$\n",
        "\n"
      ]
    },
    {
      "cell_type": "code",
      "source": [
        "a=Vector([1,2,-4,0,7])\n",
        "b=Vector([0,0,3,3,1])\n",
        "c=Vector([0,7,3,4,2])\n",
        "d=Vector([-1,0,0,1,1])\n",
        "A=Matrix([a,b,c,d])\n",
        "(3*(A|1)) + (A|2) - (2*(A|3)) - (3*(A|4))"
      ],
      "metadata": {
        "colab": {
          "base_uri": "https://localhost:8080/",
          "height": 46
        },
        "id": "ceBkomr-HqZh",
        "outputId": "61b0d45a-47b7-472d-f9b8-4dc8fdc9a971"
      },
      "execution_count": null,
      "outputs": [
        {
          "output_type": "execute_result",
          "data": {
            "text/plain": [
              "Vector([6, -8, -15, -8, 15])"
            ],
            "text/html": [
              "<p style=\"text-align:center;\">$\\begin{pmatrix}6\\\\ -8\\\\ -15\\\\ -8\\\\ 15\\end{pmatrix}$</p>"
            ],
            "image/png": "$\\begin{pmatrix}6\\\\ -8\\\\ -15\\\\ -8\\\\ 15\\end{pmatrix}$",
            "text/latex": "$\\begin{pmatrix}6\\\\ -8\\\\ -15\\\\ -8\\\\ 15\\end{pmatrix}$"
          },
          "metadata": {},
          "execution_count": 17
        }
      ]
    },
    {
      "cell_type": "markdown",
      "source": [
        "$\\left[ \\begin{array}{cccc}1&0&0&-1\\\\2&0&7&0\\\\-4&3&3&0\\\\0&3&4&1\\\\7&1&2&1\\\\ \\end{array} \\right]$"
      ],
      "metadata": {
        "id": "X5vVddcrIHSQ"
      }
    },
    {
      "cell_type": "markdown",
      "source": [
        "$\\begin{pmatrix}6\\\\ -8\\\\ -15\\\\ -8\\\\ 15\\end{pmatrix}$"
      ],
      "metadata": {
        "id": "vt04fqDuI_Mx"
      }
    },
    {
      "cell_type": "code",
      "execution_count": null,
      "metadata": {
        "id": "DLRtU4HDOYdq"
      },
      "outputs": [],
      "source": []
    },
    {
      "cell_type": "markdown",
      "metadata": {
        "ein.tags": "worksheet-0",
        "id": "kjhE4PPdWKYI"
      },
      "source": [
        "4. Matriz por vector (combinaciones lineales de las columnas de una matriz)\n",
        "\n",
        "Considere los vectores ${x}=(1, 1, -2)$, ${y}=(1, -2, 1)$\n",
        "\n",
        "y\n",
        "${z}=(-2, 1, 1)$ y verifique que\n",
        "$2{x}+2{y}+2{z}={0}$\n",
        "\n",
        "que resultado da : $4x+4y+4z$\n",
        "\n",
        "y que resultado da:  $-3x-3y-3z$"
      ]
    },
    {
      "cell_type": "code",
      "source": [
        "x=Vector([1,2,-2])\n",
        "Y=Vector([1,-2,1])\n",
        "z=Vector([-2,1,1])\n",
        "\n"
      ],
      "metadata": {
        "id": "C4KZNiK_JmEn"
      },
      "execution_count": null,
      "outputs": []
    },
    {
      "cell_type": "markdown",
      "metadata": {
        "ein.tags": "worksheet-0",
        "id": "_38hNp-wcDuB"
      },
      "source": [
        "5. Escribe una matriz C del mismo orden que A y verifica que\n",
        "$$\n",
        "({A}{C})^T={C}^T{A}^T\n",
        "$$"
      ]
    },
    {
      "cell_type": "code",
      "source": [
        "a=Vector([1,1,2])\n",
        "b=Vector([1,1,3])\n",
        "c=Vector([2,3,1])\n",
        "A=Matrix([a,b,c])\n",
        "\n",
        "d=Vector([2,3,1])\n",
        "e=Vector([5,4,3])\n",
        "f=Vector([1,1,2])\n",
        "B=Matrix([d,e,f])\n",
        "\n",
        "~(A*B)\n",
        "(~B)*(~A)"
      ],
      "metadata": {
        "id": "frH6ZOYnmErd",
        "colab": {
          "base_uri": "https://localhost:8080/",
          "height": 46
        },
        "outputId": "ac0c34f2-d01e-4cfc-90dd-96341cdbfa56"
      },
      "execution_count": 23,
      "outputs": [
        {
          "output_type": "execute_result",
          "data": {
            "text/plain": [
              "Matrix([Vector([7, 15, 6]), Vector([8, 18, 8]), Vector([14, 25, 7])])"
            ],
            "text/html": [
              "<p style=\"text-align:center;\">$\\left[ \\begin{array}{ccc}7&8&14\\\\15&18&25\\\\6&8&7\\\\ \\end{array} \\right]$</p>"
            ],
            "image/png": "$\\left[ \\begin{array}{ccc}7&8&14\\\\15&18&25\\\\6&8&7\\\\ \\end{array} \\right]$",
            "text/latex": "$\\left[ \\begin{array}{ccc}7&8&14\\\\15&18&25\\\\6&8&7\\\\ \\end{array} \\right]$"
          },
          "metadata": {},
          "execution_count": 23
        }
      ]
    },
    {
      "cell_type": "markdown",
      "source": [
        "AB Transpuesta =\n",
        "$\\left[ \\begin{array}{ccc}7&8&14\\\\15&18&25\\\\6&8&7\\\\ \\end{array} \\right]$\n",
        "=\n",
        "B Transpuesta por A Transpuesta\n",
        "$\\left[ \\begin{array}{ccc}7&8&14\\\\15&18&25\\\\6&8&7\\\\ \\end{array} \\right]$\n"
      ],
      "metadata": {
        "id": "ZzVW96GnMCNX"
      }
    },
    {
      "cell_type": "markdown",
      "metadata": {
        "ein.tags": "worksheet-0",
        "id": "Hin_mRv6cDtt"
      },
      "source": [
        "6. Verifique que\n",
        "$\n",
        "{A}{I}={A}\n",
        "$\n",
        "y que\n",
        "$\n",
        "{I}{A}={A}\n",
        "$"
      ]
    },
    {
      "cell_type": "code",
      "execution_count": 26,
      "metadata": {
        "autoscroll": false,
        "ein.hycell": false,
        "ein.tags": "worksheet-0",
        "id": "8dfGpxIdcDtt",
        "colab": {
          "base_uri": "https://localhost:8080/",
          "height": 46
        },
        "outputId": "4f105002-ab4a-4c58-b8be-f9ed913d1191"
      },
      "outputs": [
        {
          "output_type": "execute_result",
          "data": {
            "text/plain": [
              "Matrix([Vector([1, 1, 2]), Vector([1, 1, 3]), Vector([2, 3, 1])])"
            ],
            "text/html": [
              "<p style=\"text-align:center;\">$\\left[ \\begin{array}{ccc}1&1&2\\\\1&1&3\\\\2&3&1\\\\ \\end{array} \\right]$</p>"
            ],
            "image/png": "$\\left[ \\begin{array}{ccc}1&1&2\\\\1&1&3\\\\2&3&1\\\\ \\end{array} \\right]$",
            "text/latex": "$\\left[ \\begin{array}{ccc}1&1&2\\\\1&1&3\\\\2&3&1\\\\ \\end{array} \\right]$"
          },
          "metadata": {},
          "execution_count": 26
        }
      ],
      "source": [
        "a=Vector([1,1,2])\n",
        "b=Vector([1,1,3])\n",
        "c=Vector([2,3,1])\n",
        "A=Matrix([a,b,c])\n",
        "\n",
        "d=Vector([1,0,0])\n",
        "e=Vector([0,1,0])\n",
        "f=Vector([0,0,1])\n",
        "I=Matrix([d,e,f])\n",
        "\n",
        "A*I\n",
        "A\n",
        "I*A"
      ]
    },
    {
      "cell_type": "markdown",
      "source": [
        "AI=A=\n",
        "$\\left[ \\begin{array}{ccc}1&1&2\\\\1&1&3\\\\2&3&1\\\\ \\end{array} \\right]$\n",
        "=\n",
        "$\\left[ \\begin{array}{ccc}1&1&2\\\\1&1&3\\\\2&3&1\\\\ \\end{array} \\right]$\n",
        "\n",
        "IA=A=\n",
        "$\\left[ \\begin{array}{ccc}1&1&2\\\\1&1&3\\\\2&3&1\\\\ \\end{array} \\right]$\n",
        "=\n",
        "$\\left[ \\begin{array}{ccc}1&1&2\\\\1&1&3\\\\2&3&1\\\\ \\end{array} \\right]$"
      ],
      "metadata": {
        "id": "HtMx7_ZCNIvp"
      }
    },
    {
      "cell_type": "markdown",
      "source": [
        "7. Producto punto\n",
        "Considere los vectores ${x}=(1, 1, -2)$, ${y}=(1, -2, 1)$\n",
        "calcula el producto punto"
      ],
      "metadata": {
        "id": "aHZ16S1peAeY"
      }
    },
    {
      "cell_type": "code",
      "source": [],
      "metadata": {
        "id": "QPfhac1geMQK"
      },
      "execution_count": null,
      "outputs": []
    }
  ]
}