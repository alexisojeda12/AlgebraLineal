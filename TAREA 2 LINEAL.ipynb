{
  "nbformat": 4,
  "nbformat_minor": 0,
  "metadata": {
    "colab": {
      "provenance": []
    },
    "kernelspec": {
      "name": "python3",
      "display_name": "Python 3"
    },
    "language_info": {
      "name": "python"
    }
  },
  "cells": [
    {
      "cell_type": "code",
      "execution_count": 2,
      "metadata": {
        "colab": {
          "base_uri": "https://localhost:8080/"
        },
        "id": "xEMcZ21OMqkR",
        "outputId": "d0069798-3414-4e8c-e8e0-3727e0d34b0b"
      },
      "outputs": [
        {
          "output_type": "stream",
          "name": "stdout",
          "text": [
            "Collecting nacal\n",
            "  Downloading nacal-0.1.30-py3-none-any.whl (33 kB)\n",
            "Requirement already satisfied: sympy>=1.1.0 in /usr/local/lib/python3.10/dist-packages (from nacal) (1.12)\n",
            "Requirement already satisfied: mpmath>=0.19 in /usr/local/lib/python3.10/dist-packages (from sympy>=1.1.0->nacal) (1.3.0)\n",
            "Installing collected packages: nacal\n",
            "Successfully installed nacal-0.1.30\n"
          ]
        }
      ],
      "source": [
        "!pip install --target=$nb_path nacal\n",
        "\n",
        "from nacal import *\n"
      ]
    },
    {
      "cell_type": "code",
      "source": [
        "b = Vector( [0, 4, 6] )\n",
        "b"
      ],
      "metadata": {
        "colab": {
          "base_uri": "https://localhost:8080/",
          "height": 46
        },
        "id": "cgbljPhyOvjD",
        "outputId": "cc823be5-ff9a-4e2c-f874-c836c72641d8"
      },
      "execution_count": 3,
      "outputs": [
        {
          "output_type": "execute_result",
          "data": {
            "text/plain": [
              "Vector([0, 4, 6])"
            ],
            "text/html": [
              "<p style=\"text-align:center;\">$\\begin{pmatrix}0\\\\ 4\\\\ 6\\end{pmatrix}$</p>"
            ],
            "image/png": "$\\begin{pmatrix}0\\\\ 4\\\\ 6\\end{pmatrix}$",
            "text/latex": "$\\begin{pmatrix}0\\\\ 4\\\\ 6\\end{pmatrix}$"
          },
          "metadata": {},
          "execution_count": 3
        }
      ]
    },
    {
      "cell_type": "markdown",
      "source": [
        "$\\begin{pmatrix}0\\\\ 4\\\\ 6\\end{pmatrix}$"
      ],
      "metadata": {
        "id": "N-5wU1fBO3-m"
      }
    },
    {
      "cell_type": "code",
      "source": [
        "3*b|1"
      ],
      "metadata": {
        "colab": {
          "base_uri": "https://localhost:8080/"
        },
        "id": "h_BwRpFXNm3O",
        "outputId": "3f906ab3-9988-4b69-e4ae-2c96ba7cad78"
      },
      "execution_count": 4,
      "outputs": [
        {
          "output_type": "execute_result",
          "data": {
            "text/plain": [
              "0"
            ]
          },
          "metadata": {},
          "execution_count": 4
        }
      ]
    },
    {
      "cell_type": "code",
      "source": [
        "3*1|b"
      ],
      "metadata": {
        "colab": {
          "base_uri": "https://localhost:8080/"
        },
        "id": "p7WsSod2NwfV",
        "outputId": "2ad0e3dc-8185-4cdd-fef6-da112808d94e"
      },
      "execution_count": 5,
      "outputs": [
        {
          "output_type": "execute_result",
          "data": {
            "text/plain": [
              "6"
            ]
          },
          "metadata": {},
          "execution_count": 5
        }
      ]
    },
    {
      "cell_type": "code",
      "source": [
        "1*3|b"
      ],
      "metadata": {
        "colab": {
          "base_uri": "https://localhost:8080/"
        },
        "id": "qRv_eom5N4SB",
        "outputId": "7a08452f-e1eb-49cb-9a3f-6f8ee4cc74b1"
      },
      "execution_count": 6,
      "outputs": [
        {
          "output_type": "execute_result",
          "data": {
            "text/plain": [
              "6"
            ]
          },
          "metadata": {},
          "execution_count": 6
        }
      ]
    },
    {
      "cell_type": "code",
      "source": [
        "1|b*3"
      ],
      "metadata": {
        "colab": {
          "base_uri": "https://localhost:8080/"
        },
        "id": "-hfkhqWTN_RB",
        "outputId": "ed195dc0-d8a4-41e9-f076-2d163a488acd"
      },
      "execution_count": 7,
      "outputs": [
        {
          "output_type": "execute_result",
          "data": {
            "text/plain": [
              "0"
            ]
          },
          "metadata": {},
          "execution_count": 7
        }
      ]
    },
    {
      "cell_type": "code",
      "source": [
        "a = Vector( [1, 0] )\n",
        "b = Vector( [2,-1] )\n",
        "c = Vector( [3, 7] )\n",
        "d = Vector( [2, 0] )\n",
        "e = Vector( [-3, 2] )\n",
        "f = Vector( [2, -1] )\n",
        "g = Vector( [3, 3] )\n",
        "h = Vector( [-1,2] )\n",
        "i = Vector( [5,1] )\n",
        "\n",
        "A=Matrix ([d,e,f])\n",
        "B = Matrix( [a, b, c] )\n",
        "C= Matrix([g,h,i])\n",
        "\n",
        "\n",
        "2|B|3\n",
        "2|A|3\n",
        "2|C|3\n",
        "B\n",
        "A\n",
        "C"
      ],
      "metadata": {
        "colab": {
          "base_uri": "https://localhost:8080/",
          "height": 46
        },
        "id": "UV50IpajQIpc",
        "outputId": "2cd9ba2c-a7ca-4493-dc08-ecf5df070c40"
      },
      "execution_count": 8,
      "outputs": [
        {
          "output_type": "execute_result",
          "data": {
            "text/plain": [
              "Matrix([Vector([3, 3]), Vector([-1, 2]), Vector([5, 1])])"
            ],
            "text/html": [
              "<p style=\"text-align:center;\">$\\left[ \\begin{array}{ccc}3&-1&5\\\\3&2&1\\\\ \\end{array} \\right]$</p>"
            ],
            "image/png": "$\\left[ \\begin{array}{ccc}3&-1&5\\\\3&2&1\\\\ \\end{array} \\right]$",
            "text/latex": "$\\left[ \\begin{array}{ccc}3&-1&5\\\\3&2&1\\\\ \\end{array} \\right]$"
          },
          "metadata": {},
          "execution_count": 8
        }
      ]
    },
    {
      "cell_type": "markdown",
      "source": [
        "B =\n",
        "$\\left[ \\begin{array}{ccc}1&2&3\\\\0&-1&7\\\\ \\end{array} \\right]$\n",
        "A=\n",
        "$\\left[ \\begin{array}{ccc}2&-3&2\\\\0&2&-1\\\\ \\end{array} \\right]$\n",
        "C= $\\left[ \\begin{array}{ccc}3&-1&5\\\\3&2&1\\\\ \\end{array} \\right]$"
      ],
      "metadata": {
        "id": "ePpaD4LLR2KZ"
      }
    },
    {
      "cell_type": "code",
      "source": [
        "A+B\n",
        "B+A"
      ],
      "metadata": {
        "colab": {
          "base_uri": "https://localhost:8080/",
          "height": 46
        },
        "id": "mv0p-JMxR5L7",
        "outputId": "75511110-b9fe-4132-9dcd-a3de23b8a684"
      },
      "execution_count": 9,
      "outputs": [
        {
          "output_type": "execute_result",
          "data": {
            "text/plain": [
              "Matrix([Vector([3, 0]), Vector([-1, 1]), Vector([5, 6])])"
            ],
            "text/html": [
              "<p style=\"text-align:center;\">$\\left[ \\begin{array}{ccc}3&-1&5\\\\0&1&6\\\\ \\end{array} \\right]$</p>"
            ],
            "image/png": "$\\left[ \\begin{array}{ccc}3&-1&5\\\\0&1&6\\\\ \\end{array} \\right]$",
            "text/latex": "$\\left[ \\begin{array}{ccc}3&-1&5\\\\0&1&6\\\\ \\end{array} \\right]$"
          },
          "metadata": {},
          "execution_count": 9
        }
      ]
    },
    {
      "cell_type": "markdown",
      "source": [
        "A+B =\n",
        "$\\left[ \\begin{array}{ccc}3&-1&5\\\\0&1&6\\\\ \\end{array} \\right]$\n",
        "=\n",
        "B+A=\n",
        "$\\left[ \\begin{array}{ccc}3&-1&5\\\\0&1&6\\\\ \\end{array} \\right]$\n",
        "SI SE CUMPLE"
      ],
      "metadata": {
        "id": "RAfM47xGI8wy"
      }
    },
    {
      "cell_type": "code",
      "source": [
        "A+(B+C)\n",
        "(A+B)+C"
      ],
      "metadata": {
        "colab": {
          "base_uri": "https://localhost:8080/",
          "height": 46
        },
        "id": "2EJsbIxlJVN-",
        "outputId": "8e938467-6ca3-4647-c5d0-4003fdee97b8"
      },
      "execution_count": 10,
      "outputs": [
        {
          "output_type": "execute_result",
          "data": {
            "text/plain": [
              "Matrix([Vector([6, 3]), Vector([-2, 3]), Vector([10, 7])])"
            ],
            "text/html": [
              "<p style=\"text-align:center;\">$\\left[ \\begin{array}{ccc}6&-2&10\\\\3&3&7\\\\ \\end{array} \\right]$</p>"
            ],
            "image/png": "$\\left[ \\begin{array}{ccc}6&-2&10\\\\3&3&7\\\\ \\end{array} \\right]$",
            "text/latex": "$\\left[ \\begin{array}{ccc}6&-2&10\\\\3&3&7\\\\ \\end{array} \\right]$"
          },
          "metadata": {},
          "execution_count": 10
        }
      ]
    },
    {
      "cell_type": "markdown",
      "source": [
        "A+(B+C) =\n",
        "$\\left[ \\begin{array}{ccc}6&-2&10\\\\3&3&7\\\\ \\end{array} \\right]$\n",
        "=\n",
        "(A+B)+C\n",
        "=\n",
        "$\\left[ \\begin{array}{ccc}6&-2&10\\\\3&3&7\\\\ \\end{array} \\right]$"
      ],
      "metadata": {
        "id": "W0DGlKjEJbCp"
      }
    },
    {
      "cell_type": "code",
      "source": [
        "O=M0(2,3)"
      ],
      "metadata": {
        "id": "473uVuTUJ57j"
      },
      "execution_count": 11,
      "outputs": []
    },
    {
      "cell_type": "code",
      "source": [
        "O+A"
      ],
      "metadata": {
        "colab": {
          "base_uri": "https://localhost:8080/",
          "height": 46
        },
        "id": "C79goXUeLOwf",
        "outputId": "f107058f-ad58-42ef-f5ed-6713cf2375ed"
      },
      "execution_count": 12,
      "outputs": [
        {
          "output_type": "execute_result",
          "data": {
            "text/plain": [
              "Matrix([Vector([2, 0]), Vector([-3, 2]), Vector([2, -1])])"
            ],
            "text/html": [
              "<p style=\"text-align:center;\">$\\left[ \\begin{array}{ccc}2&-3&2\\\\0&2&-1\\\\ \\end{array} \\right]$</p>"
            ],
            "image/png": "$\\left[ \\begin{array}{ccc}2&-3&2\\\\0&2&-1\\\\ \\end{array} \\right]$",
            "text/latex": "$\\left[ \\begin{array}{ccc}2&-3&2\\\\0&2&-1\\\\ \\end{array} \\right]$"
          },
          "metadata": {},
          "execution_count": 12
        }
      ]
    },
    {
      "cell_type": "markdown",
      "source": [
        "\n",
        "$\\left[ \\begin{array}{ccc}2&-3&2\\\\0&2&-1\\\\ \\end{array} \\right]$\n"
      ],
      "metadata": {
        "id": "xgsxpk-QNlO3"
      }
    },
    {
      "cell_type": "code",
      "source": [
        "A+(-A)"
      ],
      "metadata": {
        "colab": {
          "base_uri": "https://localhost:8080/",
          "height": 46
        },
        "id": "opYgZaTcORmA",
        "outputId": "c5fbd9fa-140f-4c94-f639-15eb3524a26b"
      },
      "execution_count": 13,
      "outputs": [
        {
          "output_type": "execute_result",
          "data": {
            "text/plain": [
              "Matrix([Vector([0, 0]), Vector([0, 0]), Vector([0, 0])])"
            ],
            "text/html": [
              "<p style=\"text-align:center;\">$\\left[ \\begin{array}{ccc}0&0&0\\\\0&0&0\\\\ \\end{array} \\right]$</p>"
            ],
            "image/png": "$\\left[ \\begin{array}{ccc}0&0&0\\\\0&0&0\\\\ \\end{array} \\right]$",
            "text/latex": "$\\left[ \\begin{array}{ccc}0&0&0\\\\0&0&0\\\\ \\end{array} \\right]$"
          },
          "metadata": {},
          "execution_count": 13
        }
      ]
    },
    {
      "cell_type": "markdown",
      "source": [
        "$\\left[ \\begin{array}{ccc}0&0&0\\\\0&0&0\\\\ \\end{array} \\right]$"
      ],
      "metadata": {
        "id": "8sOVnC0ROYHz"
      }
    },
    {
      "cell_type": "code",
      "source": [
        "λ=2\n",
        "η=2\n",
        "λ*(A+B)\n",
        "λ*A+λ*B"
      ],
      "metadata": {
        "id": "6sjhbGKMObEO",
        "colab": {
          "base_uri": "https://localhost:8080/",
          "height": 46
        },
        "outputId": "db262047-ecfb-4b0c-84e7-5122c468973c"
      },
      "execution_count": 16,
      "outputs": [
        {
          "output_type": "execute_result",
          "data": {
            "text/plain": [
              "Matrix([Vector([6, 0]), Vector([-2, 2]), Vector([10, 12])])"
            ],
            "text/html": [
              "<p style=\"text-align:center;\">$\\left[ \\begin{array}{ccc}6&-2&10\\\\0&2&12\\\\ \\end{array} \\right]$</p>"
            ],
            "image/png": "$\\left[ \\begin{array}{ccc}6&-2&10\\\\0&2&12\\\\ \\end{array} \\right]$",
            "text/latex": "$\\left[ \\begin{array}{ccc}6&-2&10\\\\0&2&12\\\\ \\end{array} \\right]$"
          },
          "metadata": {},
          "execution_count": 16
        }
      ]
    },
    {
      "cell_type": "markdown",
      "source": [
        "λ(A+B) =\n",
        "$\\left[ \\begin{array}{ccc}6&-2&10\\\\0&2&12\\\\ \\end{array} \\right]$\n",
        "=\n",
        "λ*A+λ*B\n",
        "=\n",
        "$\\left[ \\begin{array}{ccc}6&-2&10\\\\0&2&12\\\\ \\end{array} \\right]$"
      ],
      "metadata": {
        "id": "dVeT7mafcCmu"
      }
    },
    {
      "cell_type": "code",
      "source": [
        "(λ+η)*A\n",
        "λ*A+η*A\n"
      ],
      "metadata": {
        "colab": {
          "base_uri": "https://localhost:8080/",
          "height": 46
        },
        "id": "pnxziYgfctpe",
        "outputId": "48a0af8d-0637-4aa7-e6d6-df9abbd9441f"
      },
      "execution_count": 18,
      "outputs": [
        {
          "output_type": "execute_result",
          "data": {
            "text/plain": [
              "Matrix([Vector([8, 0]), Vector([-12, 8]), Vector([8, -4])])"
            ],
            "text/html": [
              "<p style=\"text-align:center;\">$\\left[ \\begin{array}{ccc}8&-12&8\\\\0&8&-4\\\\ \\end{array} \\right]$</p>"
            ],
            "image/png": "$\\left[ \\begin{array}{ccc}8&-12&8\\\\0&8&-4\\\\ \\end{array} \\right]$",
            "text/latex": "$\\left[ \\begin{array}{ccc}8&-12&8\\\\0&8&-4\\\\ \\end{array} \\right]$"
          },
          "metadata": {},
          "execution_count": 18
        }
      ]
    },
    {
      "cell_type": "markdown",
      "source": [
        "(λ+η)*A\n",
        "=\n",
        "$\\left[ \\begin{array}{ccc}8&-12&8\\\\0&8&-4\\\\ \\end{array} \\right]$\n",
        "=\n",
        "λ*A+η*A\n",
        "=\n",
        "$\\left[ \\begin{array}{ccc}8&-12&8\\\\0&8&-4\\\\ \\end{array} \\right]$"
      ],
      "metadata": {
        "id": "q5EwB5Vfc7V7"
      }
    },
    {
      "cell_type": "code",
      "source": [
        "λ*(η*A)\n",
        "(λ*η)*A\n"
      ],
      "metadata": {
        "colab": {
          "base_uri": "https://localhost:8080/",
          "height": 46
        },
        "id": "7Aj7JrkPdK3X",
        "outputId": "6b4c008b-5a31-401f-9a2b-c0d8aa46c371"
      },
      "execution_count": 20,
      "outputs": [
        {
          "output_type": "execute_result",
          "data": {
            "text/plain": [
              "Matrix([Vector([8, 0]), Vector([-12, 8]), Vector([8, -4])])"
            ],
            "text/html": [
              "<p style=\"text-align:center;\">$\\left[ \\begin{array}{ccc}8&-12&8\\\\0&8&-4\\\\ \\end{array} \\right]$</p>"
            ],
            "image/png": "$\\left[ \\begin{array}{ccc}8&-12&8\\\\0&8&-4\\\\ \\end{array} \\right]$",
            "text/latex": "$\\left[ \\begin{array}{ccc}8&-12&8\\\\0&8&-4\\\\ \\end{array} \\right]$"
          },
          "metadata": {},
          "execution_count": 20
        }
      ]
    },
    {
      "cell_type": "markdown",
      "source": [
        "λ*(η*A)\n",
        "=\n",
        "$\\left[ \\begin{array}{ccc}8&-12&8\\\\0&8&-4\\\\ \\end{array} \\right]$\n",
        "=\n",
        "(λ*η)*A\n",
        "=\n",
        "$\\left[ \\begin{array}{ccc}8&-12&8\\\\0&8&-4\\\\ \\end{array} \\right]$"
      ],
      "metadata": {
        "id": "GFxBQoRTdWAM"
      }
    },
    {
      "cell_type": "code",
      "source": [
        "1*A\n",
        "A"
      ],
      "metadata": {
        "colab": {
          "base_uri": "https://localhost:8080/",
          "height": 46
        },
        "id": "oOEu-TKcdkHq",
        "outputId": "0e4af082-4f76-4dea-8273-a45ec261fc6f"
      },
      "execution_count": 22,
      "outputs": [
        {
          "output_type": "execute_result",
          "data": {
            "text/plain": [
              "Matrix([Vector([2, 0]), Vector([-3, 2]), Vector([2, -1])])"
            ],
            "text/html": [
              "<p style=\"text-align:center;\">$\\left[ \\begin{array}{ccc}2&-3&2\\\\0&2&-1\\\\ \\end{array} \\right]$</p>"
            ],
            "image/png": "$\\left[ \\begin{array}{ccc}2&-3&2\\\\0&2&-1\\\\ \\end{array} \\right]$",
            "text/latex": "$\\left[ \\begin{array}{ccc}2&-3&2\\\\0&2&-1\\\\ \\end{array} \\right]$"
          },
          "metadata": {},
          "execution_count": 22
        }
      ]
    },
    {
      "cell_type": "markdown",
      "source": [
        "1A\n",
        "=\n",
        "$\\left[ \\begin{array}{ccc}2&-3&2\\\\0&2&-1\\\\ \\end{array} \\right]$\n",
        "=\n",
        "A\n",
        "=\n",
        "$\\left[ \\begin{array}{ccc}2&-3&2\\\\0&2&-1\\\\ \\end{array} \\right]$"
      ],
      "metadata": {
        "id": "5_-FFuW8d13l"
      }
    }
  ]
}