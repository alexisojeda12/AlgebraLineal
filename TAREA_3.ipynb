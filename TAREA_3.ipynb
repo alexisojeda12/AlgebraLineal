{
  "nbformat": 4,
  "nbformat_minor": 0,
  "metadata": {
    "colab": {
      "provenance": []
    },
    "kernelspec": {
      "name": "python3",
      "display_name": "Python 3"
    },
    "language_info": {
      "name": "python"
    }
  },
  "cells": [
    {
      "cell_type": "code",
      "execution_count": 2,
      "metadata": {
        "colab": {
          "base_uri": "https://localhost:8080/"
        },
        "id": "P2YIAI7zfyhm",
        "outputId": "f457ca39-843e-480e-9262-45a9f5ecb587"
      },
      "outputs": [
        {
          "output_type": "stream",
          "name": "stdout",
          "text": [
            "Collecting nacal\n",
            "  Downloading nacal-0.1.30-py3-none-any.whl (33 kB)\n",
            "Requirement already satisfied: sympy>=1.1.0 in /usr/local/lib/python3.10/dist-packages (from nacal) (1.12)\n",
            "Requirement already satisfied: mpmath>=0.19 in /usr/local/lib/python3.10/dist-packages (from sympy>=1.1.0->nacal) (1.3.0)\n",
            "Installing collected packages: nacal\n",
            "Successfully installed nacal-0.1.30\n"
          ]
        }
      ],
      "source": [
        "!pip install --target=$nb_path nacal\n",
        "\n",
        "from nacal import *"
      ]
    },
    {
      "cell_type": "code",
      "source": [
        "A = Matrix( [ Vector([1,1,1]), Vector([1,0,1]), Vector([-2,2,1]) ] )\n",
        "b = Vector( [1,2,-3] )\n",
        "c = Vector([1,5,4])\n",
        "A*(b+c)\n",
        "A*b+A*c"
      ],
      "metadata": {
        "colab": {
          "base_uri": "https://localhost:8080/",
          "height": 46
        },
        "id": "UkBe9_NdljZU",
        "outputId": "86f45d10-85b2-4965-c615-e5916784e589"
      },
      "execution_count": 3,
      "outputs": [
        {
          "output_type": "execute_result",
          "data": {
            "text/plain": [
              "Vector([7, 4, 10])"
            ],
            "text/html": [
              "<p style=\"text-align:center;\">$\\begin{pmatrix}7\\\\ 4\\\\ 10\\end{pmatrix}$</p>"
            ],
            "image/png": "$\\begin{pmatrix}7\\\\ 4\\\\ 10\\end{pmatrix}$",
            "text/latex": "$\\begin{pmatrix}7\\\\ 4\\\\ 10\\end{pmatrix}$"
          },
          "metadata": {},
          "execution_count": 3
        }
      ]
    },
    {
      "cell_type": "markdown",
      "source": [
        "$\\begin{pmatrix}7\\\\ 4\\\\ 10\\end{pmatrix}$\n",
        "=\n",
        "$\\begin{pmatrix}7\\\\ 4\\\\ 10\\end{pmatrix}$\n"
      ],
      "metadata": {
        "id": "crmlKwhHlspD"
      }
    },
    {
      "cell_type": "code",
      "source": [
        "λ=2\n",
        "A*(λ*b)\n",
        "λ*(A*b)"
      ],
      "metadata": {
        "colab": {
          "base_uri": "https://localhost:8080/",
          "height": 46
        },
        "id": "o__vLF6ulx3S",
        "outputId": "7a5a7bfa-50bd-4b9f-bc27-7b6b8b0af720"
      },
      "execution_count": 4,
      "outputs": [
        {
          "output_type": "execute_result",
          "data": {
            "text/plain": [
              "Vector([18, -10, 0])"
            ],
            "text/html": [
              "<p style=\"text-align:center;\">$\\begin{pmatrix}18\\\\ -10\\\\ 0\\end{pmatrix}$</p>"
            ],
            "image/png": "$\\begin{pmatrix}18\\\\ -10\\\\ 0\\end{pmatrix}$",
            "text/latex": "$\\begin{pmatrix}18\\\\ -10\\\\ 0\\end{pmatrix}$"
          },
          "metadata": {},
          "execution_count": 4
        }
      ]
    },
    {
      "cell_type": "markdown",
      "source": [
        "$\\begin{pmatrix}18\\\\ -10\\\\ 0\\end{pmatrix}$\n",
        "=\n",
        "$\\begin{pmatrix}18\\\\ -10\\\\ 0\\end{pmatrix}$"
      ],
      "metadata": {
        "id": "32bvc-hjmei7"
      }
    },
    {
      "cell_type": "code",
      "source": [
        "B=Matrix([Vector([1,2,3]),Vector([3,4,5]),Vector ([4,5,6])])\n",
        "B\n",
        "A*(B*c)\n",
        "(A*B)*c\n"
      ],
      "metadata": {
        "colab": {
          "base_uri": "https://localhost:8080/",
          "height": 46
        },
        "id": "gKGJW1WJm1te",
        "outputId": "e6ad6c04-244f-4084-e890-e92096ac01aa"
      },
      "execution_count": 19,
      "outputs": [
        {
          "output_type": "execute_result",
          "data": {
            "text/plain": [
              "Vector([-30, 136, 126])"
            ],
            "text/html": [
              "<p style=\"text-align:center;\">$\\begin{pmatrix}-30\\\\ 136\\\\ 126\\end{pmatrix}$</p>"
            ],
            "image/png": "$\\begin{pmatrix}-30\\\\ 136\\\\ 126\\end{pmatrix}$",
            "text/latex": "$\\begin{pmatrix}-30\\\\ 136\\\\ 126\\end{pmatrix}$"
          },
          "metadata": {},
          "execution_count": 19
        }
      ]
    },
    {
      "cell_type": "markdown",
      "source": [
        "$\\begin{pmatrix}-30\\\\ 136\\\\ 126\\end{pmatrix}$\n",
        "=\n",
        "$\\begin{pmatrix}-30\\\\ 136\\\\ 126\\end{pmatrix}$"
      ],
      "metadata": {
        "id": "033Hey2AnC0b"
      }
    },
    {
      "cell_type": "code",
      "source": [
        "(A+B)*c\n",
        "A*c+B*c\n"
      ],
      "metadata": {
        "colab": {
          "base_uri": "https://localhost:8080/",
          "height": 46
        },
        "id": "E4hzgMeGwZPq",
        "outputId": "9db66533-8acc-4864-c568-e393359866ca"
      },
      "execution_count": 21,
      "outputs": [
        {
          "output_type": "execute_result",
          "data": {
            "text/plain": [
              "Vector([30, 51, 62])"
            ],
            "text/html": [
              "<p style=\"text-align:center;\">$\\begin{pmatrix}30\\\\ 51\\\\ 62\\end{pmatrix}$</p>"
            ],
            "image/png": "$\\begin{pmatrix}30\\\\ 51\\\\ 62\\end{pmatrix}$",
            "text/latex": "$\\begin{pmatrix}30\\\\ 51\\\\ 62\\end{pmatrix}$"
          },
          "metadata": {},
          "execution_count": 21
        }
      ]
    },
    {
      "cell_type": "markdown",
      "source": [
        "$\\begin{pmatrix}30\\\\ 51\\\\ 62\\end{pmatrix}$\n",
        "=\n",
        "$\\begin{pmatrix}30\\\\ 51\\\\ 62\\end{pmatrix}$"
      ],
      "metadata": {
        "id": "Iiy8NnVAwkJC"
      }
    },
    {
      "cell_type": "code",
      "source": [
        "(λ*A)*b\n",
        "λ*(A*b)"
      ],
      "metadata": {
        "colab": {
          "base_uri": "https://localhost:8080/",
          "height": 46
        },
        "id": "rkOIkVp1wuQ9",
        "outputId": "b822f4c0-b20c-491b-8c7c-e6c95a217d95"
      },
      "execution_count": 23,
      "outputs": [
        {
          "output_type": "execute_result",
          "data": {
            "text/plain": [
              "Vector([18, -10, 0])"
            ],
            "text/html": [
              "<p style=\"text-align:center;\">$\\begin{pmatrix}18\\\\ -10\\\\ 0\\end{pmatrix}$</p>"
            ],
            "image/png": "$\\begin{pmatrix}18\\\\ -10\\\\ 0\\end{pmatrix}$",
            "text/latex": "$\\begin{pmatrix}18\\\\ -10\\\\ 0\\end{pmatrix}$"
          },
          "metadata": {},
          "execution_count": 23
        }
      ]
    },
    {
      "cell_type": "markdown",
      "source": [
        "$\\begin{pmatrix}18\\\\ -10\\\\ 0\\end{pmatrix}$\n",
        "=\n",
        "$\\begin{pmatrix}18\\\\ -10\\\\ 0\\end{pmatrix}$"
      ],
      "metadata": {
        "id": "pHJnffqqw1DW"
      }
    }
  ]
}